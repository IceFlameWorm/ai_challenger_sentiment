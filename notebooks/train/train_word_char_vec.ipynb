{
 "cells": [
  {
   "cell_type": "code",
   "execution_count": 1,
   "metadata": {},
   "outputs": [],
   "source": [
    "import sys\n",
    "sys.path.append('../../')"
   ]
  },
  {
   "cell_type": "code",
   "execution_count": 2,
   "metadata": {},
   "outputs": [],
   "source": [
    "import pickle\n",
    "from gensim.models import Word2Vec\n",
    "from multiprocessing import cpu_count\n",
    "from env import *"
   ]
  },
  {
   "cell_type": "code",
   "execution_count": 3,
   "metadata": {},
   "outputs": [],
   "source": [
    "SAVED_PATH = os.path.join(CACHES_PATH, 'word_seqs_sw/simple')\n",
    "TRAIN_WORDS_PKL = os.path.join(SAVED_PATH, 'train_words.pkl')     \n",
    "VAL_WORDS_PKL = os.path.join(SAVED_PATH, 'val_words.pkl')\n",
    "TEST_WORDS_PKL = os.path.join(SAVED_PATH, 'test_words.pkl')\n",
    "\n",
    "CHARS_SAVED_PATH = os.path.join(CACHES_PATH, 'char_seqs_sw/simple')\n",
    "TRAIN_CHARS_PKL = os.path.join(CHARS_SAVED_PATH, 'train_chars.pkl')\n",
    "VAL_CHARS_PKL = os.path.join(CHARS_SAVED_PATH, 'val_chars.pkl')\n",
    "TEST_CHARS_PKL = os.path.join(CHARS_SAVED_PATH, 'test_chars.pkl')\n",
    "\n",
    "VECTOR_DIM = 300\n",
    "WORD_VECS_PATH = os.path.join(CACHES_PATH, 'word_vecs_sw')\n",
    "CHAR_VECS_PATH = os.path.join(CACHES_PATH, 'char_vecs_sw')\n",
    "\n",
    "if not os.path.exists(WORD_VECS_PATH):\n",
    "    os.makedirs(WORD_VECS_PATH)\n",
    "    \n",
    "if not os.path.exists(CHAR_VECS_PATH):\n",
    "    os.makedirs(CHAR_VECS_PATH)\n",
    "\n",
    "WORD_VEC_KV = os.path.join(WORD_VECS_PATH, 'word2vec_w%s.kv' % (VECTOR_DIM))\n",
    "CHAR_VEC_KV = os.path.join(CHAR_VECS_PATH, 'word2vec_c%s.kv' % (VECTOR_DIM))"
   ]
  },
  {
   "cell_type": "code",
   "execution_count": 4,
   "metadata": {},
   "outputs": [],
   "source": [
    "with open(TRAIN_WORDS_PKL, 'rb') as f:\n",
    "    train_words_df = pickle.load(f)\n",
    "    \n",
    "with open(VAL_WORDS_PKL, 'rb') as f:\n",
    "    val_words_df = pickle.load(f)\n",
    "    \n",
    "with open(TEST_WORDS_PKL, 'rb') as f:\n",
    "    test_words_df = pickle.load(f)\n",
    "    \n",
    "with open(TRAIN_CHARS_PKL, 'rb') as f:\n",
    "    train_chars_df = pickle.load(f)\n",
    "    \n",
    "with open(VAL_CHARS_PKL, 'rb') as f:\n",
    "    val_chars_df = pickle.load(f)\n",
    "    \n",
    "with open(TEST_CHARS_PKL, 'rb') as f:\n",
    "    test_chars_df = pickle.load(f)"
   ]
  },
  {
   "cell_type": "code",
   "execution_count": 5,
   "metadata": {},
   "outputs": [],
   "source": [
    "all_words = list(train_words_df.words) + list(val_words_df.words) + list(test_words_df.words)\n",
    "all_chars = list(train_chars_df.chars) + list(val_chars_df.chars) + list(test_chars_df.chars)"
   ]
  },
  {
   "cell_type": "code",
   "execution_count": 6,
   "metadata": {
    "scrolled": true
   },
   "outputs": [],
   "source": [
    "word_model = Word2Vec(all_words, size = VECTOR_DIM, window = 5, min_count=1, workers=cpu_count())\n",
    "char_model = Word2Vec(all_chars, size = VECTOR_DIM, window = 5, min_count=1, workers=cpu_count())"
   ]
  },
  {
   "cell_type": "code",
   "execution_count": 7,
   "metadata": {},
   "outputs": [],
   "source": [
    "word_model.wv.save(WORD_VEC_KV)\n",
    "char_model.wv.save(CHAR_VEC_KV)"
   ]
  },
  {
   "cell_type": "code",
   "execution_count": null,
   "metadata": {},
   "outputs": [],
   "source": []
  }
 ],
 "metadata": {
  "kernelspec": {
   "display_name": "Python 3",
   "language": "python",
   "name": "python3"
  },
  "language_info": {
   "codemirror_mode": {
    "name": "ipython",
    "version": 3
   },
   "file_extension": ".py",
   "mimetype": "text/x-python",
   "name": "python",
   "nbconvert_exporter": "python",
   "pygments_lexer": "ipython3",
   "version": "3.5.2"
  }
 },
 "nbformat": 4,
 "nbformat_minor": 2
}
