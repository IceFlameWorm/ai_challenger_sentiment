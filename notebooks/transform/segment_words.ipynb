{
 "cells": [
  {
   "cell_type": "code",
   "execution_count": 1,
   "metadata": {
    "scrolled": true
   },
   "outputs": [
    {
     "name": "stderr",
     "output_type": "stream",
     "text": [
      "/usr/local/lib/python3.5/dist-packages/h5py/__init__.py:36: FutureWarning: Conversion of the second argument of issubdtype from `float` to `np.floating` is deprecated. In future, it will be treated as `np.float64 == np.dtype(float).type`.\n",
      "  from ._conv import register_converters as _register_converters\n",
      "Using TensorFlow backend.\n",
      "  0%|          | 0/105000 [00:00<?, ?it/s]Building prefix dict from the default dictionary ...\n",
      "Loading model from cache /tmp/jieba.cache\n",
      "Loading model cost 0.481 seconds.\n",
      "Prefix dict has been built succesfully.\n",
      "100%|██████████| 105000/105000 [04:36<00:00, 379.53it/s]\n",
      "100%|██████████| 15000/15000 [00:39<00:00, 376.46it/s]\n",
      "100%|██████████| 15000/15000 [00:39<00:00, 375.94it/s]\n"
     ]
    }
   ],
   "source": [
    "from __future__ import print_function\n",
    "from __future__ import division\n",
    "\n",
    "import sys\n",
    "sys.path.append('../../')\n",
    "\n",
    "import pickle\n",
    "import pandas as pd\n",
    "import numpy as np\n",
    "\n",
    "from env import *\n",
    "from utils.dataset import DataSet\n",
    "from utils.transform import *\n",
    "\n",
    "WORD_INDEX_PKL = os.path.join(CACHES_PATH, 'word_index.pkl')\n",
    "TRAIN_SEQS_PKL = os.path.join(CACHES_PATH, 'train_seqs.pkl')\n",
    "VAL_SEQS_PKL = os.path.join(CACHES_PATH, 'val_seqs.pkl')\n",
    "TEST_SEQS_PKL = os.path.join(CACHES_PATH, 'test_seqs.pkl')\n",
    "TRAIN_SEQS_PADDED_PKL = os.path.join(CACHES_PATH, 'train_seqs_padded.pkl')\n",
    "VAL_SEQS_PADDED_PKL = os.path.join(CACHES_PATH, 'val_seqs_padded.pkl')\n",
    "TEST_SEQS_PADDED_PKL = os.path.join(CACHES_PATH, 'test_seqs_padded.pkl')\n",
    "\n",
    "dataset = DataSet()\n",
    "train, val, test = dataset.train, dataset.val, dataset.test\n",
    "\n",
    "stopwords = gen_stopwords(HIT_TXT)\n",
    "\n",
    "train_words = list(segment_words(train.content, stopwords))\n",
    "val_words = list(segment_words(val.content, stopwords))\n",
    "test_words = list(segment_words(test.content, stopwords))\n",
    "\n",
    "(train_seqs, val_seqs, test_seqs), word_index = text2seqs(train_words,val_words, test_words)\n",
    "(train_seqs_padded, val_seqs_padded, test_seqs_padded), maxlen = padseqs(train_seqs, val_seqs, test_seqs)\n",
    "\n",
    "columns = ['id', 'word_seq']\n",
    "train_seqs_df = pd.DataFrame(list(zip(train.id, train_seqs)), columns = columns)\n",
    "val_seqs_df = pd.DataFrame(list(zip(val.id, val_seqs)), columns = columns)\n",
    "test_seqs_df = pd.DataFrame(list(zip(test.id, test_seqs)), columns = columns)\n",
    "\n",
    "train_seqs_padded_df = pd.DataFrame(list(zip(train.id, train_seqs_padded)), columns = columns)\n",
    "val_seqs_padded_df = pd.DataFrame(list(zip(val.id, val_seqs_padded)), columns = columns)\n",
    "test_seqs_padded_df = pd.DataFrame(list(zip(test.id, test_seqs_padded)), columns = columns)\n",
    "\n",
    "with open(WORD_INDEX_PKL, 'wb') as f:\n",
    "    pickle.dump(word_index, f)\n",
    "\n",
    "with open(TRAIN_SEQS_PKL, 'wb') as f:\n",
    "    pickle.dump(train_seqs_df, f)\n",
    "\n",
    "with open(VAL_SEQS_PKL, 'wb') as f:\n",
    "    pickle.dump(val_seqs_df, f)\n",
    "\n",
    "with open(TEST_SEQS_PKL, 'wb') as f:\n",
    "    pickle.dump(test_seqs_df, f)\n",
    "\n",
    "with open(TRAIN_SEQS_PADDED_PKL, 'wb') as f:\n",
    "    pickle.dump(train_seqs_padded_df, f)\n",
    "\n",
    "with open(VAL_SEQS_PADDED_PKL, 'wb') as f:\n",
    "    pickle.dump(val_seqs_padded_df, f)\n",
    "\n",
    "with open(TEST_SEQS_PADDED_PKL, 'wb') as f:\n",
    "    pickle.dump(test_seqs_padded_df, f)"
   ]
  }
 ],
 "metadata": {
  "kernelspec": {
   "display_name": "Python 3",
   "language": "python",
   "name": "python3"
  },
  "language_info": {
   "codemirror_mode": {
    "name": "ipython",
    "version": 3
   },
   "file_extension": ".py",
   "mimetype": "text/x-python",
   "name": "python",
   "nbconvert_exporter": "python",
   "pygments_lexer": "ipython3",
   "version": "3.5.2"
  }
 },
 "nbformat": 4,
 "nbformat_minor": 2
}
