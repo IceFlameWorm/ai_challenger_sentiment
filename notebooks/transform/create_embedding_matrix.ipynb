{
 "cells": [
  {
   "cell_type": "code",
   "execution_count": 1,
   "metadata": {},
   "outputs": [],
   "source": [
    "import sys\n",
    "sys.path.append('../../')"
   ]
  },
  {
   "cell_type": "code",
   "execution_count": 2,
   "metadata": {},
   "outputs": [],
   "source": [
    "import pickle\n",
    "import numpy as np\n",
    "from gensim.models import KeyedVectors\n",
    "from env import *"
   ]
  },
  {
   "cell_type": "code",
   "execution_count": 3,
   "metadata": {},
   "outputs": [],
   "source": [
    "VECTOR_DIM = 300\n",
    "WORD_VECS_PATH = os.path.join(CACHES_PATH, 'word_vecs_sw')\n",
    "CHAR_VECS_PATH = os.path.join(CACHES_PATH, 'char_vecs_sw')\n",
    "\n",
    "WORD_VEC_KV = os.path.join(WORD_VECS_PATH, 'word2vec_w%s.kv' % (VECTOR_DIM))\n",
    "CHAR_VEC_KV = os.path.join(CHAR_VECS_PATH, 'word2vec_c%s.kv' % (VECTOR_DIM))\n",
    "\n",
    "WORD_SAVED_PATH = os.path.join(CACHES_PATH, 'word_seqs_sw', 'simple')\n",
    "WORD_INDEX_PKL = os.path.join(WORD_SAVED_PATH, 'word_index.pkl')\n",
    "\n",
    "CHAR_SAVED_PATH = os.path.join(CACHES_PATH, 'char_seqs_sw', 'simple')\n",
    "CHAR_INDEX_PKL = os.path.join(CHAR_SAVED_PATH, 'char_index.pkl')\n",
    "\n",
    "MAX_WORDS = 50000\n",
    "\n",
    "WEM_PKL = os.path.join(WORD_SAVED_PATH, 'wem_%d.pkl' % VECTOR_DIM)\n",
    "CEM_PKL = os.path.join(CHAR_SAVED_PATH, 'cem_%d.pkl' % VECTOR_DIM)"
   ]
  },
  {
   "cell_type": "code",
   "execution_count": 4,
   "metadata": {},
   "outputs": [
    {
     "ename": "FileNotFoundError",
     "evalue": "[Errno 2] No such file or directory: '/root/mounted/projects/ai_challenger_sentiment/data/caches/char_seqs_sw/simple/char_index.pkl'",
     "output_type": "error",
     "traceback": [
      "\u001b[0;31m---------------------------------------------------------------------------\u001b[0m",
      "\u001b[0;31mFileNotFoundError\u001b[0m                         Traceback (most recent call last)",
      "\u001b[0;32m<ipython-input-4-ef51047098ac>\u001b[0m in \u001b[0;36m<module>\u001b[0;34m()\u001b[0m\n\u001b[1;32m      5\u001b[0m     \u001b[0mword_index\u001b[0m \u001b[0;34m=\u001b[0m \u001b[0mpickle\u001b[0m\u001b[0;34m.\u001b[0m\u001b[0mload\u001b[0m\u001b[0;34m(\u001b[0m\u001b[0mf\u001b[0m\u001b[0;34m)\u001b[0m\u001b[0;34m\u001b[0m\u001b[0m\n\u001b[1;32m      6\u001b[0m \u001b[0;34m\u001b[0m\u001b[0m\n\u001b[0;32m----> 7\u001b[0;31m \u001b[0;32mwith\u001b[0m \u001b[0mopen\u001b[0m\u001b[0;34m(\u001b[0m\u001b[0mCHAR_INDEX_PKL\u001b[0m\u001b[0;34m,\u001b[0m \u001b[0;34m'rb'\u001b[0m\u001b[0;34m)\u001b[0m \u001b[0;32mas\u001b[0m \u001b[0mf\u001b[0m\u001b[0;34m:\u001b[0m\u001b[0;34m\u001b[0m\u001b[0m\n\u001b[0m\u001b[1;32m      8\u001b[0m     \u001b[0mchar_index\u001b[0m \u001b[0;34m=\u001b[0m \u001b[0mpickle\u001b[0m\u001b[0;34m.\u001b[0m\u001b[0mload\u001b[0m\u001b[0;34m(\u001b[0m\u001b[0mf\u001b[0m\u001b[0;34m)\u001b[0m\u001b[0;34m\u001b[0m\u001b[0m\n",
      "\u001b[0;31mFileNotFoundError\u001b[0m: [Errno 2] No such file or directory: '/root/mounted/projects/ai_challenger_sentiment/data/caches/char_seqs_sw/simple/char_index.pkl'"
     ]
    }
   ],
   "source": [
    "wv = KeyedVectors.load(WORD_VEC_KV,  mmap='r')\n",
    "cv = KeyedVectors.load(CHAR_VEC_KV,  mmap='r')\n",
    "\n",
    "with open(WORD_INDEX_PKL, 'rb') as f:\n",
    "    word_index = pickle.load(f)\n",
    "    \n",
    "with open(CHAR_INDEX_PKL, 'rb') as f:\n",
    "    char_index = pickle.load(f)"
   ]
  },
  {
   "cell_type": "code",
   "execution_count": null,
   "metadata": {},
   "outputs": [],
   "source": [
    "wem = np.zeros([MAX_WORDS, VECTOR_DIM], dtype=np.float32)\n",
    "cem = np.zeros([MAX_WORDS, VECTOR_DIM], dtype=np.float32) # 实际字符数少于MAX_WORDS\n",
    "\n",
    "for i, w in enumerate(wv.index2word):\n",
    "    wi = word_index.get(w, MAX_WORDS + 1)\n",
    "    if wi < MAX_WORDS:\n",
    "        wem[wi] = wv.vectors[i]\n",
    "        \n",
    "for i, c in enumerate(cv.index2word):\n",
    "    ci = char_index.get(c, MAX_WORDS + 1)\n",
    "    if ci < MAX_WORDS:\n",
    "        cem[ci] = cv.vectors[i]"
   ]
  },
  {
   "cell_type": "code",
   "execution_count": null,
   "metadata": {},
   "outputs": [],
   "source": [
    "with open(WEM_PKL, 'wb') as f:\n",
    "    pickle.dump(wem, f)\n",
    "    \n",
    "with open(CEM_PKL, 'wb') as f:\n",
    "    pickle.dump(cem, f)"
   ]
  },
  {
   "cell_type": "code",
   "execution_count": null,
   "metadata": {},
   "outputs": [],
   "source": []
  }
 ],
 "metadata": {
  "kernelspec": {
   "display_name": "Python 3",
   "language": "python",
   "name": "python3"
  },
  "language_info": {
   "codemirror_mode": {
    "name": "ipython",
    "version": 3
   },
   "file_extension": ".py",
   "mimetype": "text/x-python",
   "name": "python",
   "nbconvert_exporter": "python",
   "pygments_lexer": "ipython3",
   "version": "3.5.2"
  }
 },
 "nbformat": 4,
 "nbformat_minor": 2
}
